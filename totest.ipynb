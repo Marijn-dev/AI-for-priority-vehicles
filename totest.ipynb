{
 "cells": [
  {
   "cell_type": "code",
   "execution_count": null,
   "metadata": {},
   "outputs": [],
   "source": [
    "#whether this way of getting the x and y coordinate works\n",
    "location=participant.get_transform().location\n",
    "x=location[0]\n",
    "z=location[2]\n",
    "print(x,z)"
   ]
  }
 ],
 "metadata": {
  "language_info": {
   "name": "python"
  }
 },
 "nbformat": 4,
 "nbformat_minor": 2
}

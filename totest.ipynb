{
 "cells": [
  {
   "cell_type": "code",
   "execution_count": 3,
   "metadata": {},
   "outputs": [
    {
     "ename": "NameError",
     "evalue": "name 'participant' is not defined",
     "output_type": "error",
     "traceback": [
      "\u001b[1;31m---------------------------------------------------------------------------\u001b[0m",
      "\u001b[1;31mNameError\u001b[0m                                 Traceback (most recent call last)",
      "Cell \u001b[1;32mIn[3], line 2\u001b[0m\n\u001b[0;32m      1\u001b[0m \u001b[38;5;66;03m#whether this way of getting the x and y coordinate works\u001b[39;00m\n\u001b[1;32m----> 2\u001b[0m location\u001b[38;5;241m=\u001b[39m\u001b[43mparticipant\u001b[49m\u001b[38;5;241m.\u001b[39mget_transform()\u001b[38;5;241m.\u001b[39mlocation\n\u001b[0;32m      3\u001b[0m x\u001b[38;5;241m=\u001b[39mlocation[\u001b[38;5;241m0\u001b[39m]\n\u001b[0;32m      4\u001b[0m z\u001b[38;5;241m=\u001b[39mlocation[\u001b[38;5;241m2\u001b[39m]\n",
      "\u001b[1;31mNameError\u001b[0m: name 'participant' is not defined"
     ]
    }
   ],
   "source": [
    "#whether this way of getting the x and y coordinate works\n",
    "location=participant.get_transform().location\n",
    "x=location[0]\n",
    "z=location[2]\n",
    "print(x,z)"
   ]
  },
  {
   "cell_type": "code",
   "execution_count": 64,
   "metadata": {},
   "outputs": [],
   "source": [
    "participants_positions= [[0,35,2,23,43,23,4,5],[1,35,2,23,43,23,4,5]]\n",
    "past = np.array([[0,35,2,23,43,23,4,5],[1,35,2,23,43,23,4,5],[2,35,2,23,43,23,4,5],[3,35,2,23,43,23,4,5],[3,35,2,23,43,23,4,5]])"
   ]
  },
  {
   "cell_type": "code",
   "execution_count": 101,
   "metadata": {},
   "outputs": [
    {
     "name": "stdout",
     "output_type": "stream",
     "text": [
      "28\n",
      "15\n",
      "88\n",
      "68\n",
      "[[28. 29. 15. 16. 88. 89. 68. 69.]\n",
      " [49. 50. 91. 92. 94. 95. 64. 65.]\n",
      " [36. 37. 57. 58. 51. 52. 67. 68.]\n",
      " [89. 90. 22. 23. 12. 13. 28. 29.]\n",
      " [92. 93. 94. 95. 35. 36. 16. 17.]]\n"
     ]
    }
   ],
   "source": [
    "import numpy as np\n",
    "participants=[\"car\",'car','pedestrian','car']\n",
    "new_coords=np.zeros([len(participants)*2])\n",
    "\n",
    "\n",
    "for p in range(len(participants)):\n",
    "    new_coords[2*p],new_coords[2*p+1]=get_new_positions(p)\n",
    "past= np.vstack((new_coords,past))\n",
    "past=np.delete(past,5,0) \n",
    "\n",
    "# for p in range(len(participants)):\n",
    "#     #nput = torch.tensor(past[p*2:p*2+1,:])\n",
    "#     pred = [8,6] #= model_load.prediction(rnn_model,input,future_timesegments)\n",
    "#     pred.detach().numpy().prepend(participants_positions[2*p:2*p+1,:])\n",
    "\n",
    "print(past)"
   ]
  },
  {
   "cell_type": "code",
   "execution_count": 55,
   "metadata": {},
   "outputs": [],
   "source": [
    "import random\n",
    "def get_new_positions(p):\n",
    "    i=round(100*random.random())\n",
    "    print(i)\n",
    "    return i,i+1\n"
   ]
  }
 ],
 "metadata": {
  "kernelspec": {
   "display_name": "Carla3_8",
   "language": "python",
   "name": "python3"
  },
  "language_info": {
   "codemirror_mode": {
    "name": "ipython",
    "version": 3
   },
   "file_extension": ".py",
   "mimetype": "text/x-python",
   "name": "python",
   "nbconvert_exporter": "python",
   "pygments_lexer": "ipython3",
   "version": "3.8.19"
  }
 },
 "nbformat": 4,
 "nbformat_minor": 2
}

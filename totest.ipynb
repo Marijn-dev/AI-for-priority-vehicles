{
 "cells": [
  {
   "cell_type": "code",
   "execution_count": 2,
   "metadata": {},
   "outputs": [
    {
     "ename": "NameError",
     "evalue": "name 'participant' is not defined",
     "output_type": "error",
     "traceback": [
      "\u001b[1;31m---------------------------------------------------------------------------\u001b[0m",
      "\u001b[1;31mNameError\u001b[0m                                 Traceback (most recent call last)",
      "Cell \u001b[1;32mIn[2], line 2\u001b[0m\n\u001b[0;32m      1\u001b[0m \u001b[38;5;66;03m#whether this way of getting the x and y coordinate works\u001b[39;00m\n\u001b[1;32m----> 2\u001b[0m location\u001b[38;5;241m=\u001b[39m\u001b[43mparticipant\u001b[49m\u001b[38;5;241m.\u001b[39mget_transform()\u001b[38;5;241m.\u001b[39mlocation\n\u001b[0;32m      3\u001b[0m x\u001b[38;5;241m=\u001b[39mlocation[\u001b[38;5;241m0\u001b[39m]\n\u001b[0;32m      4\u001b[0m z\u001b[38;5;241m=\u001b[39mlocation[\u001b[38;5;241m2\u001b[39m]\n",
      "\u001b[1;31mNameError\u001b[0m: name 'participant' is not defined"
     ]
    }
   ],
   "source": [
    "#whether this way of getting the x and y coordinate works\n",
    "location=participant.get_transform().location\n",
    "x=location[0]\n",
    "z=location[2]\n",
    "print(x,z)"
   ]
  },
  {
   "cell_type": "code",
   "execution_count": 9,
   "metadata": {},
   "outputs": [],
   "source": [
    "participants_positions= [[0,35,2,23,43,23,4,5],[1,35,2,23,43,23,4,5]]\n",
    "past = np.array([[0,35,2,23,43,23,4,5],[1,35,2,23,43,23,4,5],[2,35,2,23,43,23,4,5],[3,35,2,23,43,23,4,5],[3,35,2,23,43,23,4,5]])"
   ]
  },
  {
   "cell_type": "code",
   "execution_count": 23,
   "metadata": {},
   "outputs": [
    {
     "name": "stdout",
     "output_type": "stream",
     "text": [
      "22\n",
      "94\n",
      "61\n",
      "54\n",
      "[[57. 58. 90. 91. 39. 40. 77. 78.]\n",
      " [72. 73.  8.  9. 51. 52. 15. 16.]\n",
      " [29. 30. 44. 45. 92. 93.  2.  3.]\n",
      " [ 2.  3. 69. 70. 74. 75. 41. 42.]\n",
      " [22. 23. 94. 95. 61. 62. 54. 55.]]\n"
     ]
    }
   ],
   "source": [
    "import numpy as np\n",
    "participants=[\"car\",'car','pedestrian','car']\n",
    "new_coords=np.zeros([len(participants)*2])\n",
    "\n",
    "\n",
    "for p in range(len(participants)):\n",
    "    new_coords[2*p],new_coords[2*p+1]= get_new_positions(p)\n",
    "past= np.vstack((past,new_coords))\n",
    "past= np.delete(past,0,0)\n",
    "\n",
    "# for p in range(len(participants)):\n",
    "#     #nput = torch.tensor(past[p*2:p*2+1,:])\n",
    "#     pred = [8,6] #= model_load.prediction(rnn_model,input,future_timesegments)\n",
    "#     pred.detach().numpy().prepend(participants_positions[2*p:2*p+1,:])\n",
    "\n",
    "print(past)"
   ]
  },
  {
   "cell_type": "code",
   "execution_count": 5,
   "metadata": {},
   "outputs": [],
   "source": [
    "import random\n",
    "def get_new_positions(p):\n",
    "    i=round(100*random.random())\n",
    "    print(i)\n",
    "    return i,i+1"
   ]
  },
  {
   "cell_type": "code",
   "execution_count": 4,
   "metadata": {},
   "outputs": [
    {
     "ename": "NameError",
     "evalue": "name 'np' is not defined",
     "output_type": "error",
     "traceback": [
      "\u001b[1;31m---------------------------------------------------------------------------\u001b[0m",
      "\u001b[1;31mNameError\u001b[0m                                 Traceback (most recent call last)",
      "Cell \u001b[1;32mIn[4], line 7\u001b[0m\n\u001b[0;32m      4\u001b[0m segment_data\u001b[38;5;241m=\u001b[39mplt\u001b[38;5;241m.\u001b[39mimread(\u001b[38;5;124m'\u001b[39m\u001b[38;5;124mRubens_test_files/Pictures/instance_camera_Sun_Apr_14_20_33_08_2024.png\u001b[39m\u001b[38;5;124m'\u001b[39m) \u001b[38;5;66;03m#to get the data as an array\u001b[39;00m\n\u001b[0;32m      6\u001b[0m \u001b[38;5;66;03m#depth_data=convert_image_to_depth(depth_data)\u001b[39;00m\n\u001b[1;32m----> 7\u001b[0m segment_data\u001b[38;5;241m=\u001b[39m\u001b[43mnp\u001b[49m\u001b[38;5;241m.\u001b[39mround(segment_data\u001b[38;5;241m*\u001b[39m\u001b[38;5;241m255\u001b[39m)\n\u001b[0;32m      8\u001b[0m labels\u001b[38;5;241m=\u001b[39msegment_data[:,:,\u001b[38;5;241m0\u001b[39m]\n\u001b[0;32m     10\u001b[0m depth_Width\u001b[38;5;241m=\u001b[39mdepth_data[\u001b[38;5;241m1\u001b[39m,:,\u001b[38;5;241m0\u001b[39m]\u001b[38;5;241m.\u001b[39msize()\n",
      "\u001b[1;31mNameError\u001b[0m: name 'np' is not defined"
     ]
    }
   ],
   "source": [
    "import matplotlib.pyplot as plt\n",
    "\n",
    "depth_data=plt.imread('Rubens_test_files/Pictures/depth_camera_Sun_Apr_14_20_33_08_2024.png') #to get the data as an array\n",
    "segment_data=plt.imread('Rubens_test_files/Pictures/instance_camera_Sun_Apr_14_20_33_08_2024.png') #to get the data as an array\n",
    "\n",
    "depth_data=convert_image_to_depth(depth_data)\n",
    "segment_data=np.round(segment_data*255)\n",
    "labels=segment_data[:,:,0]\n",
    "\n",
    "depth_Width=depth_data[1,:,0].size()"
   ]
  },
  {
   "cell_type": "code",
   "execution_count": 23,
   "metadata": {},
   "outputs": [
    {
     "name": "stdout",
     "output_type": "stream",
     "text": [
      "Actor(id=152, type=vehicle.ford.ambulance)\n",
      "Actor(id=151, type=vehicle.audi.a2)\n",
      "Actor(id=150, type=vehicle.toyota.prius)\n"
     ]
    }
   ],
   "source": [
    "import carla\n",
    "client = carla.Client('localhost', 2000)\n",
    "world = client.get_world()\n",
    "\n",
    "actor_list = world.get_actors()\n",
    "for a in actor_list:\n",
    "    if a.id>146:\n",
    "        a.destroy()"
   ]
  }
 ],
 "metadata": {
  "kernelspec": {
   "display_name": "Carla3_8",
   "language": "python",
   "name": "python3"
  },
  "language_info": {
   "codemirror_mode": {
    "name": "ipython",
    "version": 3
   },
   "file_extension": ".py",
   "mimetype": "text/x-python",
   "name": "python",
   "nbconvert_exporter": "python",
   "pygments_lexer": "ipython3",
   "version": "3.8.19"
  }
 },
 "nbformat": 4,
 "nbformat_minor": 2
}

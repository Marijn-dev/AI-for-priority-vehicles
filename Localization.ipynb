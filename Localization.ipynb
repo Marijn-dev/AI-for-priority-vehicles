{
 "cells": [
  {
   "cell_type": "code",
   "execution_count": 1,
   "metadata": {},
   "outputs": [],
   "source": [
    "import carla\n",
    "import math\n",
    "import random\n",
    "import time\n",
    "import numpy as np\n",
    "import cv2\n",
    "import time\n",
    "try:\n",
    "   import queue\n",
    "except ImportError:\n",
    "   import Queue as queue"
   ]
  },
  {
   "cell_type": "code",
   "execution_count": 2,
   "metadata": {},
   "outputs": [
    {
     "data": {
      "text/plain": [
       "74"
      ]
     },
     "execution_count": 2,
     "metadata": {},
     "output_type": "execute_result"
    }
   ],
   "source": [
    "client = carla.Client('localhost', 2000) # port 2000\n",
    "client.set_timeout(10.0) # seconds\n",
    "world = client.get_world()\n",
    "settings = world.get_settings()\n",
    "settings.synchronous_mode = False\n",
    "# settings.fixed_delta_seconds = 0.02\n",
    "world.apply_settings(settings) "
   ]
  },
  {
   "cell_type": "code",
   "execution_count": 3,
   "metadata": {},
   "outputs": [
    {
     "name": "stdout",
     "output_type": "stream",
     "text": [
      "['/Game/Carla/Maps/Town01', '/Game/Carla/Maps/Town04_Opt', '/Game/Carla/Maps/Town03_Opt', '/Game/Carla/Maps/Town02', '/Game/Carla/Maps/Town03', '/Game/Carla/Maps/Town01_Opt', '/Game/Carla/Maps/Town06_Opt', '/Game/Carla/Maps/Town05_Opt', '/Game/Carla/Maps/Town04', '/Game/Carla/Maps/Town10HD', '/Game/Carla/Maps/Town10HD_Opt', '/Game/Carla/Maps/Town07_Opt', '/Game/Carla/Maps/Town06', '/Game/Carla/Maps/Town07', '/Game/Carla/Maps/Town05', '/Game/Carla/Maps/Town02_Opt', '/Game/Carla/Maps/Town12/Town12', '/Game/Carla/Maps/Town15/Town15', '/Game/Carla/Maps/Town13/Town13', '/Game/Carla/Maps/Town11/Town11']\n"
     ]
    }
   ],
   "source": [
    "print(client.get_available_maps())\n",
    "world = client.load_world('Town01')"
   ]
  },
  {
   "cell_type": "markdown",
   "metadata": {},
   "source": [
    "Spawn cars (at fixed positions):"
   ]
  },
  {
   "cell_type": "code",
   "execution_count": 4,
   "metadata": {},
   "outputs": [],
   "source": [
    "blueprint_library = world.get_blueprint_library()\n",
    "model3 = blueprint_library.filter('model3')[0]\n",
    "ambulance = blueprint_library.filter('vehicle.ford.ambulance')[0]\n",
    "spawn_point = carla.Transform(carla.Location(x=88.619987, y=101.833946, z=0.300000), carla.Rotation(pitch=0.000000, yaw=90.000046, roll=0.000000)) \n",
    "spawn_point2 = carla.Transform(carla.Location(x=88.619987, y=101.833946+12, z=0.300000), carla.Rotation(pitch=0.000000, yaw=90.000046, roll=0.000000)) \n",
    "spawn_point3 = carla.Transform(carla.Location(x=88.619987+4, y=101.833946+12, z=0.300000), carla.Rotation(pitch=0.000000, yaw=90.000046, roll=0.000000)) \n",
    "\n",
    "vehicle1 = world.spawn_actor(ambulance, spawn_point) # vehicle 1\n",
    "vehicle2 = world.spawn_actor(model3, spawn_point2) # vehicle 2\n",
    "vehicle3 = world.spawn_actor(model3, spawn_point3) # vehicle 2\n",
    "\n",
    "spectator = world.get_spectator()\n",
    "transform = carla.Transform(vehicle1.get_transform().transform(carla.Location(x=+4,z=2.5)), vehicle1.get_transform().rotation)\n",
    "spectator.set_transform(transform)\n"
   ]
  },
  {
   "cell_type": "markdown",
   "metadata": {},
   "source": [
    "Create vehicle list with vehicle type and unique identifier:"
   ]
  },
  {
   "cell_type": "code",
   "execution_count": 5,
   "metadata": {},
   "outputs": [
    {
     "name": "stdout",
     "output_type": "stream",
     "text": [
      "['vehicle.tesla.model3_199', 'vehicle.tesla.model3_198']\n",
      "[199, 198]\n"
     ]
    }
   ],
   "source": [
    "othertraffic_names = [] # store name + id of other traffic members\n",
    "othertraffic_id = [] # store id of other traffic \n",
    "actors = world.get_actors()\n",
    "vehicles = [actor for actor in actors if actor.type_id.startswith('vehicle')]\n",
    "ambulance = [actor for actor in actors if actor.type_id.startswith('vehicle.ford.ambulance')]\n",
    "for vehicle in vehicles:\n",
    "    vehicle_info = vehicle.type_id + '_' + str(vehicle.id) # create name for vehicles with vehicle type and id\n",
    "    if \"ambulance\" in vehicle.type_id:\n",
    "        ambulance_id = vehicle.id # save id of ambulance, so you can calculate position of other traffic participants relative to this ambulance, this if statement should be changed to id of 1 particular ambulance if there are multiple ambulance\n",
    "    else:\n",
    "        othertraffic_names.append(vehicle_info) \n",
    "        othertraffic_id.append(vehicle.id)\n",
    "    #print(vehicle.get_transform().location)\n",
    "print(othertraffic_names)\n",
    "print(othertraffic_id)\n"
   ]
  },
  {
   "cell_type": "markdown",
   "metadata": {},
   "source": [
    "Function to retrieve relative locations:"
   ]
  },
  {
   "cell_type": "code",
   "execution_count": 6,
   "metadata": {},
   "outputs": [],
   "source": [
    "def retrieve_relative_locations(egocar_id): # maincar_id is the id of the ego car (ambulance)\n",
    "    locations = np.zeros(2*len(othertraffic_id)) # store relative locations in here\n",
    "    egocar = client.get_world().get_actor(egocar_id)\n",
    "    egocar_location = [egocar.get_transform().location.x, egocar.get_transform().location.y] \n",
    "    i = 0\n",
    "    for id in othertraffic_id:\n",
    "        traffic_member = client.get_world().get_actor(id)\n",
    "        locations[i] = traffic_member.get_transform().location.x - egocar_location[0] # relative x position\n",
    "        i += 1\n",
    "        locations[i] = traffic_member.get_transform().location.y - egocar_location[1] # relative y position\n",
    "        i += 1\n",
    "\n",
    "    return locations"
   ]
  },
  {
   "cell_type": "code",
   "execution_count": 8,
   "metadata": {},
   "outputs": [
    {
     "name": "stdout",
     "output_type": "stream",
     "text": [
      "time [s]: 1\n",
      "time [s]: 2\n",
      "time [s]: 3\n",
      "time [s]: 4\n",
      "time [s]: 5\n",
      "[[4.16307068e+00 2.28558235e+02 8.57543945e-03 2.28582405e+02]\n",
      " [4.16333008e+00 2.28558174e+02 8.17108154e-03 2.28582405e+02]\n",
      " [4.16291809e+00 2.28558174e+02 8.33129883e-03 2.28582375e+02]\n",
      " [4.16326141e+00 2.28558235e+02 7.40051270e-03 2.28582405e+02]\n",
      " [4.16378021e+00 2.28558144e+02 7.86590576e-03 2.28582314e+02]]\n"
     ]
    }
   ],
   "source": [
    "# ticks = int(duration_seconds / world.get_settings().fixed_delta_seconds)\n",
    "egocar = client.get_world().get_actor(ambulance_id)\n",
    "t = 5\n",
    "locations_last_x = np.zeros((t,2*len(othertraffic_id)))\n",
    "\n",
    "# apply input to other traffic\n",
    "for id in othertraffic_id:\n",
    "    traffic_member = client.get_world().get_actor(id)\n",
    "    traffic_member.apply_control(carla.VehicleControl(throttle=0.5, steer=0, brake=0))\n",
    "\n",
    "start_time = time.time()\n",
    "i = 1\n",
    "while time.time() - start_time < 5.5:\n",
    "    time_elapsed = time.time() - start_time\n",
    "\n",
    "    # will have to change something in this cause time elapsed sometimes skips values \n",
    "    if time_elapsed == i:\n",
    "        locations_last_x[i-1] = retrieve_relative_locations(ambulance_id)\n",
    "        print('time [s]:', i)\n",
    "        i += 1\n",
    "        \n",
    "    \n",
    "\n",
    "# stop other traffic  \n",
    "for id in othertraffic_id:\n",
    "    traffic_member = client.get_world().get_actor(id)\n",
    "    traffic_member.apply_control(carla.VehicleControl(throttle=0.0, steer=0, brake=0))\n",
    "\n",
    "print(locations_last_x)"
   ]
  },
  {
   "cell_type": "code",
   "execution_count": 38,
   "metadata": {},
   "outputs": [
    {
     "name": "stdout",
     "output_type": "stream",
     "text": [
      "1\n"
     ]
    }
   ],
   "source": [
    "intervals = np.arange(1,t+1) # 1 to t seconds\n",
    "start_time = time.time()\n",
    "while time.time() - start_time < 5:\n",
    "    i = 0\n",
    "    a = time.time() - start_time\n",
    "    if a == 2:\n",
    "        print(intervals[i])\n",
    "        i += 1\n",
    "        "
   ]
  },
  {
   "cell_type": "code",
   "execution_count": 29,
   "metadata": {},
   "outputs": [
    {
     "name": "stdout",
     "output_type": "stream",
     "text": [
      "0.1434621810913086\n"
     ]
    }
   ],
   "source": [
    "a = time.time()-start_time\n",
    "print(a % 2)\n"
   ]
  },
  {
   "cell_type": "code",
   "execution_count": 33,
   "metadata": {},
   "outputs": [
    {
     "data": {
      "text/plain": [
       "array([1, 2, 3, 4, 5])"
      ]
     },
     "execution_count": 33,
     "metadata": {},
     "output_type": "execute_result"
    }
   ],
   "source": []
  },
  {
   "cell_type": "code",
   "execution_count": null,
   "metadata": {},
   "outputs": [],
   "source": []
  }
 ],
 "metadata": {
  "kernelspec": {
   "display_name": "Python 3",
   "language": "python",
   "name": "python3"
  },
  "language_info": {
   "codemirror_mode": {
    "name": "ipython",
    "version": 3
   },
   "file_extension": ".py",
   "mimetype": "text/x-python",
   "name": "python",
   "nbconvert_exporter": "python",
   "pygments_lexer": "ipython3",
   "version": "3.7.5"
  }
 },
 "nbformat": 4,
 "nbformat_minor": 2
}

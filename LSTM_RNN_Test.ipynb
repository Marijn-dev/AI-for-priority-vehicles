{
 "cells": [
  {
   "cell_type": "code",
   "execution_count": 4,
   "metadata": {},
   "outputs": [],
   "source": [
    "import torch.utils\n",
    "import torch.utils.data\n",
    "from LSTM.datapreprocessing import create_data\n",
    "\n",
    "import csv\n",
    "import os\n",
    "import pandas as pd\n",
    "import numpy as np\n",
    "import torch\n",
    "import torch\n",
    "import torch.nn as nn\n",
    "import torch.nn.functional as F\n",
    "\n",
    "\n",
    "import torch\n",
    "import torch.nn as nn"
   ]
  },
  {
   "cell_type": "code",
   "execution_count": 5,
   "metadata": {},
   "outputs": [],
   "source": [
    "class SimpleRNN(nn.Module):\n",
    "    def __init__(self, input_size, hidden_size, output_size, num_layers, future_timesegments):\n",
    "        super(SimpleRNN, self).__init__()\n",
    "        self.future_timesegments = future_timesegments\n",
    "        self.hidden_size = hidden_size\n",
    "        self.num_layers = num_layers\n",
    "        self.LSTM_cell = nn.LSTM(input_size, hidden_size,  num_layers, batch_first=True)\n",
    "        self.fc1 = nn.Linear(hidden_size, hidden_size)\n",
    "        # self.fc2 = nn.Linear(hidden_size, 50)\n",
    "        self.fc3 = nn.Linear(hidden_size,output_size)\n",
    "\n",
    "\n",
    "    def forward(self, x, hidden):\n",
    "        # Forward pass through the RNN layer\n",
    "        out, hidden = self.LSTM_cell(x, hidden)\n",
    "        # Reshape the output to fit into the fully connected layer\n",
    "        # out = out.contiguous().view(-1, self.hidden_size) many to one\n",
    "        out = out[:, -4:, :] # --> Last time step \n",
    "        # out = F.relu(self.fc1(out))\n",
    "        out = F.relu(self.fc1(out))\n",
    "        # out = F.sigmoid(self.fc2(out))\n",
    "        out = self.fc3(out)\n",
    "        # print(out.shape)\n",
    "        return out, hidden\n",
    "\n",
    "    def init_hidden(self, x):\n",
    "        # Initialize hidden state with zeros\n",
    "        return (torch.zeros(self.num_layers, x.size(0), self.hidden_size),torch.zeros(self.num_layers, x.size(0), self.hidden_size))"
   ]
  },
  {
   "cell_type": "code",
   "execution_count": 11,
   "metadata": {},
   "outputs": [
    {
     "name": "stdout",
     "output_type": "stream",
     "text": [
      "tensor([[[0., 0.],\n",
      "         [0., 0.],\n",
      "         [0., 0.],\n",
      "         [0., 0.],\n",
      "         [0., 0.]]])\n",
      "tensor([[[-0.1943, -0.0167],\n",
      "         [-0.2057, -0.0056],\n",
      "         [-0.2193, -0.0042],\n",
      "         [-0.2408, -0.0019]]], grad_fn=<ViewBackward0>)\n"
     ]
    }
   ],
   "source": [
    "input = torch.tensor([[[ 0.0000e+00,  0.0000e+00],\n",
    "        [-1.6442e+00, -1.8951e-02],\n",
    "        [-5.6885e+00, -5.9998e-02],\n",
    "        [-9.8572e+00,  1.2701e-01],\n",
    "        [-1.4382e+01,  1.8763e+00]]])\n",
    "input2 = torch.tensor([[[ 0.0000e+00,  0.0000e+00],\n",
    "        [0,0],\n",
    "        [0,0],\n",
    "        [0,  0],\n",
    "        [0,  0]]])\n",
    "# Define input, hidden, and output sizes\n",
    "input_size = 2  # Size of input vectors (x and y coordinates)\n",
    "hidden_size = 500  # Size of hidden state (hyperparameter)\n",
    "output_size = 2  # Size of output vectors (x and y coordinates)\n",
    "num_layers = 2# amount of layers (hyperparameter)\n",
    "future_timesegments = 4\n",
    "model_name = 'LSTM_PAST5_FUTURE4_H500_L2_RELU.pt'\n",
    "LSTM_model = SimpleRNN(input_size, hidden_size, output_size, num_layers, future_timesegments)\n",
    "LSTM_model = torch.load('models/' + model_name)\n",
    "hidden = LSTM_model.init_hidden(input)\n",
    "future_pred, _ = LSTM_model(input2,hidden)\n",
    "print(input2)\n",
    "print(future_pred)\n",
    "\n"
   ]
  },
  {
   "cell_type": "code",
   "execution_count": null,
   "metadata": {},
   "outputs": [],
   "source": []
  }
 ],
 "metadata": {
  "kernelspec": {
   "display_name": "5LSH0",
   "language": "python",
   "name": "python3"
  },
  "language_info": {
   "codemirror_mode": {
    "name": "ipython",
    "version": 3
   },
   "file_extension": ".py",
   "mimetype": "text/x-python",
   "name": "python",
   "nbconvert_exporter": "python",
   "pygments_lexer": "ipython3",
   "version": "3.8.19"
  }
 },
 "nbformat": 4,
 "nbformat_minor": 2
}

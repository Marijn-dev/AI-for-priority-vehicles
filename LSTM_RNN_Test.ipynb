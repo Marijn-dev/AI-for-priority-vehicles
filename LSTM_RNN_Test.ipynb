{
 "cells": [
  {
   "cell_type": "code",
   "execution_count": 4,
   "metadata": {},
   "outputs": [],
   "source": [
    "import torch.utils\n",
    "import torch.utils.data\n",
    "from LSTM.datapreprocessing import create_data\n",
    "\n",
    "import csv\n",
    "import os\n",
    "import pandas as pd\n",
    "import numpy as np\n",
    "import torch\n",
    "import torch\n",
    "import torch.nn as nn\n",
    "import torch.nn.functional as F\n",
    "\n",
    "\n",
    "import torch\n",
    "import torch.nn as nn"
   ]
  },
  {
   "cell_type": "markdown",
   "metadata": {},
   "source": [
    "Load in model"
   ]
  },
  {
   "cell_type": "code",
   "execution_count": 41,
   "metadata": {},
   "outputs": [],
   "source": [
    "##### LOAD IN DATA ####\n",
    "cwd = os.getcwd()\n",
    "file1 = cwd + '/data/Coordinates_T30_run_1.csv'\n",
    "past_timesegments = 5\n",
    "future_timesegments = 4\n",
    "batch_size = 12\n",
    "\n",
    "X_train, y_train = create_data(file1,past_timesegments,future_timesegments)\n",
    "train_length = 500 # amount of datasets for training\n",
    "validation_length = 75  # amount of data sets for validation\n",
    "test_length = 25    # amount of sets used for test set\n",
    "datalength = 600\n",
    "\n",
    "for i in range(1,datalength):\n",
    "    file = cwd + '/data/Coordinates_T30_run_' + str(i+1)+'.csv'\n",
    "    X_temp, y_temp = create_data(file1,past_timesegments,future_timesegments)\n",
    "\n",
    "    # train set\n",
    "    if i < train_length:\n",
    "        X_train = np.concatenate((X_train,X_temp),axis=0)\n",
    "        y_train = np.concatenate((y_train,y_temp),axis=0)\n",
    "    elif i == train_length:\n",
    "        X_val, y_val = X_temp, y_temp\n",
    "    elif i > train_length and i < (train_length+validation_length):\n",
    "        X_val = np.concatenate((X_val,X_temp),axis=0)\n",
    "        y_val = np.concatenate((y_val,y_temp),axis=0)\n",
    "    elif i == (train_length+validation_length):\n",
    "        X_test, y_test = X_temp, y_temp\n",
    "    else:\n",
    "        X_test = np.concatenate((X_test,X_temp),axis=0)\n",
    "        y_test = np.concatenate((y_test,y_temp),axis=0)\n",
    "\n",
    "# make dataloader from numpy arrays\n",
    "## Trainloader\n",
    "X_tensor, y_tensor = torch.from_numpy(X_train), torch.from_numpy(y_train)\n",
    "X_tensor, y_tensor = X_tensor.type(torch.FloatTensor), y_tensor.type(torch.FloatTensor)\n",
    "dataset = torch.utils.data.TensorDataset(X_tensor,y_tensor)\n",
    "train_loader = torch.utils.data.DataLoader(dataset=dataset, batch_size=batch_size,shuffle=False)\n",
    "\n",
    "## Validation loader\n",
    "X_tensor, y_tensor = torch.from_numpy(X_val), torch.from_numpy(y_val)\n",
    "X_tensor, y_tensor = X_tensor.type(torch.FloatTensor), y_tensor.type(torch.FloatTensor)\n",
    "dataset = torch.utils.data.TensorDataset(X_tensor,y_tensor)\n",
    "val_loader = torch.utils.data.DataLoader(dataset=dataset, batch_size=batch_size,shuffle=False)\n",
    "\n",
    "\n",
    "## Test loader\n",
    "X_tensor, y_tensor = torch.from_numpy(X_test), torch.from_numpy(y_test)\n",
    "X_tensor, y_tensor = X_tensor.type(torch.FloatTensor), y_tensor.type(torch.FloatTensor)\n",
    "dataset = torch.utils.data.TensorDataset(X_tensor,y_tensor)\n",
    "test_loader = torch.utils.data.DataLoader(dataset=dataset, batch_size=1,shuffle=False)"
   ]
  },
  {
   "cell_type": "markdown",
   "metadata": {},
   "source": [
    "Initiate model"
   ]
  },
  {
   "cell_type": "code",
   "execution_count": 42,
   "metadata": {},
   "outputs": [],
   "source": [
    "# Define the LSTM model\n",
    "class SimpleLSTM(nn.Module):\n",
    "    def __init__(self, input_size, hidden_size, output_size, num_layers, future_timesegments):\n",
    "        super(SimpleLSTM, self).__init__()\n",
    "        self.future_timesegments = future_timesegments\n",
    "        self.hidden_size = hidden_size\n",
    "        self.num_layers = num_layers\n",
    "        self.LSTM_cell = nn.LSTM(input_size, hidden_size,  num_layers, batch_first=True)\n",
    "        self.fc1 = nn.Linear(hidden_size, hidden_size)\n",
    "        # self.fc2 = nn.Linear(hidden_size, 50)\n",
    "        self.fc3 = nn.Linear(hidden_size,output_size)\n",
    "\n",
    "\n",
    "    def forward(self, x, hidden):\n",
    "        # Forward pass through the RNN layer\n",
    "        out, hidden = self.LSTM_cell(x, hidden)\n",
    "        # Reshape the output to fit into the fully connected layer\n",
    "        # out = out.contiguous().view(-1, self.hidden_size) many to one\n",
    "        out = out[:, -future_timesegments:, :] # --> Last time step \n",
    "        # out = F.relu(self.fc1(out))\n",
    "        out = F.relu(self.fc1(out))\n",
    "        # out = F.sigmoid(self.fc2(out))\n",
    "        out = self.fc3(out)\n",
    "        # print(out.shape)\n",
    "        return out, hidden\n",
    "\n",
    "    def init_hidden(self, x):\n",
    "        # Initialize hidden state with zeros\n",
    "        return (torch.zeros(self.num_layers, x.size(0), self.hidden_size),torch.zeros(self.num_layers, x.size(0), self.hidden_size))\n",
    "\n",
    "# Define input, hidden, and output sizes\n",
    "input_size = 2  # Size of input vectors (x and y coordinates)\n",
    "hidden_size = 500  # Size of hidden state (hyperparameter)\n",
    "output_size = 2  # Size of output vectors (x and y coordinates)\n",
    "num_layers = 2 # amount of layers (hyperparameter)\n",
    "\n",
    "# Create an instance of the LSTM model\n",
    "LSTM_model = SimpleLSTM(input_size, hidden_size, output_size, num_layers, future_timesegments)"
   ]
  },
  {
   "cell_type": "markdown",
   "metadata": {},
   "source": [
    "Train model"
   ]
  },
  {
   "cell_type": "code",
   "execution_count": 43,
   "metadata": {},
   "outputs": [
    {
     "name": "stdout",
     "output_type": "stream",
     "text": [
      "epoch: 1: train_loss: 9.7096372676493, val_loss: 4.146095957074847\n",
      "epoch: 2: train_loss: 2.872840429893695, val_loss: 1.500269352052514\n",
      "epoch: 3: train_loss: 2.1720534666786815, val_loss: 1.97531886858365\n",
      "epoch: 4: train_loss: 2.112589622781067, val_loss: 1.428024106392903\n",
      "epoch: 5: train_loss: 1.5866610694494712, val_loss: 1.4009476790072726\n",
      "epoch: 6: train_loss: 1.8168438488707814, val_loss: 1.416858231806654\n",
      "epoch: 7: train_loss: 1.493712592986386, val_loss: 1.5259528254760886\n",
      "epoch: 8: train_loss: 1.5675012199142948, val_loss: 1.4205308009523077\n",
      "epoch: 9: train_loss: 1.4492346571445285, val_loss: 1.4717555953726424\n",
      "epoch: 10: train_loss: 1.5426707624069704, val_loss: 1.4007902508263295\n"
     ]
    }
   ],
   "source": [
    "Training = True\n",
    "if Training == True:\n",
    "\n",
    "\n",
    "    learning_rate = 0.005\n",
    "    num_epochs = 10\n",
    "    # Loss and optimizer\n",
    "    criterion = nn.MSELoss()\n",
    "    optimizer = torch.optim.Adam(LSTM_model.parameters(), lr=learning_rate)  \n",
    "\n",
    "    # Train the model\n",
    "    n_total_steps = len(train_loader)\n",
    "    val_losses = []\n",
    "    train_losses = []\n",
    "    for epoch in range(num_epochs):\n",
    "        epoch_loss_val = 0\n",
    "        epoch_loss_train = 0\n",
    "        for i, (past, future) in enumerate(train_loader):  \n",
    "        \n",
    "            hidden = LSTM_model.init_hidden(past)\n",
    "            future_pred, _ = LSTM_model(past,hidden)\n",
    "            loss = criterion(future_pred, future)\n",
    "            epoch_loss_train += loss.item()\n",
    "            # Backward and optimize\n",
    "            optimizer.zero_grad()\n",
    "            loss.backward()\n",
    "            optimizer.step()\n",
    "\n",
    "        for i, (past, future) in enumerate(val_loader):  \n",
    "            hidden = LSTM_model.init_hidden(past)\n",
    "\n",
    "            future_pred, _ = LSTM_model(past,hidden)\n",
    "            loss = criterion(future_pred, future)\n",
    "            epoch_loss_val += loss.item()\n",
    "        train_losses.append(epoch_loss_train/len(train_loader))\n",
    "        val_losses.append(epoch_loss_val/len(val_loader))\n",
    "        print('epoch: {epoch}: train_loss: {epoch_loss_train}, val_loss: {epoch_loss_val}'.format(epoch=epoch+1,epoch_loss_train=epoch_loss_train/len(train_loader),epoch_loss_val=epoch_loss_val/len(val_loader)))\n",
    "\n",
    "    # model_scripted = torch.jit.script(rnn_model) # Export to TorchScript\n",
    "    torch.save(LSTM_model,'LSTM_MODELS/LSTM_PAST5_FUTURE4_H500_L2RELU_V2.pt') # Save"
   ]
  },
  {
   "cell_type": "markdown",
   "metadata": {},
   "source": [
    "Plot losses per epoch"
   ]
  },
  {
   "cell_type": "code",
   "execution_count": 55,
   "metadata": {},
   "outputs": [
    {
     "data": {
      "text/plain": [
       "Text(0, 0.5, 'Loss')"
      ]
     },
     "execution_count": 55,
     "metadata": {},
     "output_type": "execute_result"
    },
    {
     "data": {
      "image/png": "[encoded data removed]",
      "text/plain": [
       "<Figure size 640x480 with 1 Axes>"
      ]
     },
     "metadata": {},
     "output_type": "display_data"
    }
   ],
   "source": [
    "import matplotlib.pyplot as plt\n",
    "x = np.arange(1,len(train_losses)+1)\n",
    "plt.plot(x,train_losses, label = 'Training losses')\n",
    "plt.plot(x,val_losses, label = 'Validation losses')\n",
    "plt.legend()\n",
    "plt.xlabel('Epoch')\n",
    "plt.ylabel('Loss')\n",
    "\n"
   ]
  },
  {
   "cell_type": "markdown",
   "metadata": {},
   "source": [
    "Test performance on test set"
   ]
  },
  {
   "cell_type": "code",
   "execution_count": 45,
   "metadata": {},
   "outputs": [
    {
     "name": "stdout",
     "output_type": "stream",
     "text": [
      "Test Loss (MSE):  1.3906253324166755\n"
     ]
    }
   ],
   "source": [
    "with torch.no_grad():\n",
    "    test_loss = 0\n",
    "    for i, (past, future) in enumerate(test_loader):  \n",
    "            hidden = LSTM_model.init_hidden(past)\n",
    "            future_pred, _ = LSTM_model(past,hidden)\n",
    "            loss = criterion(future_pred, future)\n",
    "            test_loss += loss.item()\n",
    "test_loss = test_loss / len(test_loader)\n",
    "print(\"Test Loss (MSE): \", test_loss)"
   ]
  },
  {
   "cell_type": "code",
   "execution_count": 5,
   "metadata": {},
   "outputs": [],
   "source": [
    "class SimpleRNN(nn.Module):\n",
    "    def __init__(self, input_size, hidden_size, output_size, num_layers, future_timesegments):\n",
    "        super(SimpleRNN, self).__init__()\n",
    "        self.future_timesegments = future_timesegments\n",
    "        self.hidden_size = hidden_size\n",
    "        self.num_layers = num_layers\n",
    "        self.LSTM_cell = nn.LSTM(input_size, hidden_size,  num_layers, batch_first=True)\n",
    "        self.fc1 = nn.Linear(hidden_size, hidden_size)\n",
    "        # self.fc2 = nn.Linear(hidden_size, 50)\n",
    "        self.fc3 = nn.Linear(hidden_size,output_size)\n",
    "\n",
    "\n",
    "    def forward(self, x, hidden):\n",
    "        # Forward pass through the RNN layer\n",
    "        out, hidden = self.LSTM_cell(x, hidden)\n",
    "        # Reshape the output to fit into the fully connected layer\n",
    "        # out = out.contiguous().view(-1, self.hidden_size) many to one\n",
    "        out = out[:, -4:, :] # --> Last time step \n",
    "        # out = F.relu(self.fc1(out))\n",
    "        out = F.relu(self.fc1(out))\n",
    "        # out = F.sigmoid(self.fc2(out))\n",
    "        out = self.fc3(out)\n",
    "        # print(out.shape)\n",
    "        return out, hidden\n",
    "\n",
    "    def init_hidden(self, x):\n",
    "        # Initialize hidden state with zeros\n",
    "        return (torch.zeros(self.num_layers, x.size(0), self.hidden_size),torch.zeros(self.num_layers, x.size(0), self.hidden_size))"
   ]
  },
  {
   "cell_type": "code",
   "execution_count": 11,
   "metadata": {},
   "outputs": [
    {
     "name": "stdout",
     "output_type": "stream",
     "text": [
      "tensor([[[0., 0.],\n",
      "         [0., 0.],\n",
      "         [0., 0.],\n",
      "         [0., 0.],\n",
      "         [0., 0.]]])\n",
      "tensor([[[-0.1943, -0.0167],\n",
      "         [-0.2057, -0.0056],\n",
      "         [-0.2193, -0.0042],\n",
      "         [-0.2408, -0.0019]]], grad_fn=<ViewBackward0>)\n"
     ]
    }
   ],
   "source": [
    "input = torch.tensor([[[ 0.0000e+00,  0.0000e+00],\n",
    "        [-1.6442e+00, -1.8951e-02],\n",
    "        [-5.6885e+00, -5.9998e-02],\n",
    "        [-9.8572e+00,  1.2701e-01],\n",
    "        [-1.4382e+01,  1.8763e+00]]])\n",
    "input2 = torch.tensor([[[ 0.0000e+00,  0.0000e+00],\n",
    "        [0,0],\n",
    "        [0,0],\n",
    "        [0,  0],\n",
    "        [0,  0]]])\n",
    "# Define input, hidden, and output sizes\n",
    "input_size = 2  # Size of input vectors (x and y coordinates)\n",
    "hidden_size = 500  # Size of hidden state (hyperparameter)\n",
    "output_size = 2  # Size of output vectors (x and y coordinates)\n",
    "num_layers = 2# amount of layers (hyperparameter)\n",
    "future_timesegments = 4\n",
    "model_name = 'LSTM_PAST5_FUTURE4_H500_L2_RELU.pt'\n",
    "LSTM_model = SimpleRNN(input_size, hidden_size, output_size, num_layers, future_timesegments)\n",
    "LSTM_model = torch.load('models/' + model_name)\n",
    "hidden = LSTM_model.init_hidden(input)\n",
    "future_pred, _ = LSTM_model(input2,hidden)\n",
    "print(input2)\n",
    "print(future_pred)\n",
    "\n"
   ]
  },
  {
   "cell_type": "code",
   "execution_count": null,
   "metadata": {},
   "outputs": [],
   "source": []
  }
 ],
 "metadata": {
  "kernelspec": {
   "display_name": "5LSH0",
   "language": "python",
   "name": "python3"
  },
  "language_info": {
   "codemirror_mode": {
    "name": "ipython",
    "version": 3
   },
   "file_extension": ".py",
   "mimetype": "text/x-python",
   "name": "python",
   "nbconvert_exporter": "python",
   "pygments_lexer": "ipython3",
   "version": "3.8.19"
  }
 },
 "nbformat": 4,
 "nbformat_minor": 2
}

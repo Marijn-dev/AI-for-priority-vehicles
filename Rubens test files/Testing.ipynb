{
 "cells": [
  {
   "cell_type": "markdown",
   "metadata": {},
   "source": [
    "Used for testing and temporary code\n"
   ]
  },
  {
   "cell_type": "code",
   "execution_count": 5,
   "metadata": {},
   "outputs": [],
   "source": [
    "#setup etc\n",
    "import carla\n",
    "import numpy as np\n",
    "import pygame\n",
    "client = carla.Client('localhost', 2000)\n",
    "client.set_timeout(120) #Enable longer wait time in case computer is slow"
   ]
  },
  {
   "cell_type": "code",
   "execution_count": 6,
   "metadata": {},
   "outputs": [],
   "source": [
    "world = client.get_world()\n",
    "car_filter='*Ambulance*' \n",
    "vehicle_bp = world.get_blueprint_library().filter(car_filter)\n",
    "blueprint_library= world.get_blueprint_library()"
   ]
  },
  {
   "cell_type": "code",
   "execution_count": 7,
   "metadata": {},
   "outputs": [],
   "source": [
    "#Spawn a car at the spectator\n",
    "spectator = world.get_spectator()\n",
    "point=spectator.get_transform()\n",
    "ego_vehicle=world.try_spawn_actor(vehicle_bp[0],point)\n"
   ]
  },
  {
   "cell_type": "code",
   "execution_count": 8,
   "metadata": {},
   "outputs": [],
   "source": [
    "#add an instance segmentation camera\n",
    "instance_segmentation_camera= blueprint_library.find('sensor.camera.instance_segmentation')\n",
    "camera_init_trans = carla.Transform(carla.Location(z=1.5)) \n",
    "camera = world.try_spawn_actor(instance_segmentation_camera, camera_init_trans, attach_to=ego_vehicle)"
   ]
  },
  {
   "cell_type": "code",
   "execution_count": 9,
   "metadata": {},
   "outputs": [],
   "source": [
    "# Render object to keep and pass the PyGame surface\n",
    "class RenderObject(object):\n",
    "    def __init__(self, width, height):\n",
    "        init_image = np.random.randint(0,255,(height,width,3),dtype='uint8')\n",
    "        self.surface = pygame.surfarray.make_surface(init_image.swapaxes(0,1))\n",
    "\n",
    "# Camera sensor callback, reshapes raw data from camera into 2D RGB and applies to PyGame surface\n",
    "def pygame_callback(data, obj):\n",
    "    img = np.reshape(np.copy(data.raw_data), (data.height, data.width, 4))\n",
    "    img = img[:,:,:3]\n",
    "    img = img[:, :, ::-1]\n",
    "    obj.surface = pygame.surfarray.make_surface(img.swapaxes(0,1))"
   ]
  },
  {
   "cell_type": "code",
   "execution_count": 10,
   "metadata": {},
   "outputs": [
    {
     "ename": "",
     "evalue": "",
     "output_type": "error",
     "traceback": [
      "\u001b[1;31mThe Kernel crashed while executing code in the current cell or a previous cell. \n",
      "\u001b[1;31mPlease review the code in the cell(s) to identify a possible cause of the failure. \n",
      "\u001b[1;31mClick <a href='https://aka.ms/vscodeJupyterKernelCrash'>here</a> for more info. \n",
      "\u001b[1;31mView Jupyter <a href='command:jupyter.viewOutput'>log</a> for further details."
     ]
    }
   ],
   "source": [
    "camera.listen(lambda image: pygame_callback(image, RenderObject))"
   ]
  }
 ],
 "metadata": {
  "kernelspec": {
   "display_name": "Carla3",
   "language": "python",
   "name": "python3"
  },
  "language_info": {
   "codemirror_mode": {
    "name": "ipython",
    "version": 3
   },
   "file_extension": ".py",
   "mimetype": "text/x-python",
   "name": "python",
   "nbconvert_exporter": "python",
   "pygments_lexer": "ipython3",
   "version": "3.7.16"
  }
 },
 "nbformat": 4,
 "nbformat_minor": 2
}

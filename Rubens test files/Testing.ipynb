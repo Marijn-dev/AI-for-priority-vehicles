{
 "cells": [
  {
   "cell_type": "markdown",
   "metadata": {},
   "source": [
    "Used for testing and temporary code\n"
   ]
  },
  {
   "cell_type": "code",
   "execution_count": 25,
   "metadata": {},
   "outputs": [
    {
     "name": "stdout",
     "output_type": "stream",
     "text": [
      "Tue_Apr__9_15_38_06_2024\n"
     ]
    }
   ],
   "source": [
    "\n",
    "string=time.ctime()\n",
    "new=string.replace(\" \",'_').replace(\":\",\"_\")\n",
    "print(new)"
   ]
  },
  {
   "cell_type": "code",
   "execution_count": null,
   "metadata": {},
   "outputs": [
    {
     "name": "stdout",
     "output_type": "stream",
     "text": [
      "pygame 2.5.2 (SDL 2.28.3, Python 3.7.16)\n",
      "Hello from the pygame community. https://www.pygame.org/contribute.html\n"
     ]
    }
   ],
   "source": [
    "#setup etc\n",
    "import carla\n",
    "import numpy as np\n",
    "import pygame\n",
    "import cv2\n",
    "import time\n",
    "client = carla.Client('localhost', 2000)\n",
    "client.set_timeout(120) #Enable longer wait time in case computer is slow"
   ]
  },
  {
   "cell_type": "code",
   "execution_count": 11,
   "metadata": {},
   "outputs": [],
   "source": [
    "world = client.get_world()\n",
    "car_filter='*Ambulance*' \n",
    "vehicle_bp = world.get_blueprint_library().filter(car_filter)\n",
    "blueprint_library= world.get_blueprint_library()"
   ]
  },
  {
   "cell_type": "code",
   "execution_count": 12,
   "metadata": {},
   "outputs": [],
   "source": [
    "#Spawn a car at the spectator\n",
    "spectator = world.get_spectator()\n",
    "point=spectator.get_transform()\n",
    "ego_vehicle=world.try_spawn_actor(vehicle_bp[0],point)\n"
   ]
  },
  {
   "cell_type": "code",
   "execution_count": 15,
   "metadata": {},
   "outputs": [],
   "source": [
    "#add an instance segmentation camera\n",
    "instance_segmentation_camera= blueprint_library.find('sensor.camera.instance_segmentation')\n",
    "instance_segmentation_camera.set_attribute('sensor_tick','10')\n",
    "camera_init_trans = carla.Transform(carla.Location(z=1.5)) \n",
    "camera = world.try_spawn_actor(instance_segmentation_camera, camera_init_trans, attach_to=ego_vehicle)"
   ]
  },
  {
   "cell_type": "code",
   "execution_count": 14,
   "metadata": {},
   "outputs": [
    {
     "ename": "AttributeError",
     "evalue": "'ServerSideSensor' object has no attribute 'set_attribute'",
     "output_type": "error",
     "traceback": [
      "\u001b[1;31m---------------------------------------------------------------------------\u001b[0m",
      "\u001b[1;31mAttributeError\u001b[0m                            Traceback (most recent call last)",
      "\u001b[1;32m~\\AppData\\Local\\Temp\\ipykernel_14552\\3880255693.py\u001b[0m in \u001b[0;36m<module>\u001b[1;34m\u001b[0m\n\u001b[1;32m----> 1\u001b[1;33m \u001b[0mcamera\u001b[0m\u001b[1;33m.\u001b[0m\u001b[0mset_attribute\u001b[0m\u001b[1;33m(\u001b[0m\u001b[1;34m'sensor_tick'\u001b[0m\u001b[1;33m,\u001b[0m\u001b[1;34m'10'\u001b[0m\u001b[1;33m)\u001b[0m\u001b[1;33m\u001b[0m\u001b[1;33m\u001b[0m\u001b[0m\n\u001b[0m",
      "\u001b[1;31mAttributeError\u001b[0m: 'ServerSideSensor' object has no attribute 'set_attribute'"
     ]
    }
   ],
   "source": []
  },
  {
   "cell_type": "code",
   "execution_count": 16,
   "metadata": {},
   "outputs": [],
   "source": [
    "# Render object to keep and pass the PyGame surface\n",
    "class RenderObject(object):\n",
    "    def __init__(self, width, height):\n",
    "        init_image = np.random.randint(0,255,(height,width,3),dtype='uint8')\n",
    "        self.surface = pygame.surfarray.make_surface(init_image.swapaxes(0,1))\n",
    "\n",
    "# Camera sensor callback, reshapes raw data from camera into 2D RGB and applies to PyGame surface\n",
    "def pygame_callback(data, obj):\n",
    "    img = np.reshape(np.copy(data.raw_data), (data.height, data.width, 4))\n",
    "    img = img[:,:,:3]\n",
    "    img = img[:, :, ::-1]\n",
    "    obj.surface = pygame.surfarray.make_surface(img.swapaxes(0,1))\n",
    "\n",
    "def camera_callback(image, data):\n",
    "    capture = np.reshape(np.copy(image.raw_data), (image.height, image.width, 4))\n",
    "    data['image'] = capture\n",
    "    cv2.imwrite(f\"{image.frame}.png\", capture)"
   ]
  },
  {
   "cell_type": "code",
   "execution_count": 18,
   "metadata": {},
   "outputs": [
    {
     "ename": "",
     "evalue": "",
     "output_type": "error",
     "traceback": [
      "\u001b[1;31mThe Kernel crashed while executing code in the current cell or a previous cell. \n",
      "\u001b[1;31mPlease review the code in the cell(s) to identify a possible cause of the failure. \n",
      "\u001b[1;31mClick <a href='https://aka.ms/vscodeJupyterKernelCrash'>here</a> for more info. \n",
      "\u001b[1;31mView Jupyter <a href='command:jupyter.viewOutput'>log</a> for further details."
     ]
    }
   ],
   "source": [
    "camera.listen(lambda image: camera_callback(image, image.save_to_disk('/%.6d.jpg' % image.frame)))"
   ]
  }
 ],
 "metadata": {
  "kernelspec": {
   "display_name": "Carla3",
   "language": "python",
   "name": "python3"
  },
  "language_info": {
   "codemirror_mode": {
    "name": "ipython",
    "version": 3
   },
   "file_extension": ".py",
   "mimetype": "text/x-python",
   "name": "python",
   "nbconvert_exporter": "python",
   "pygments_lexer": "ipython3",
   "version": "3.7.16"
  }
 },
 "nbformat": 4,
 "nbformat_minor": 2
}

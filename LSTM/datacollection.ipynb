{
 "cells": [
  {
   "cell_type": "code",
   "execution_count": 1,
   "metadata": {},
   "outputs": [
    {
     "name": "stdout",
     "output_type": "stream",
     "text": [
      "['vehicle.audi.a2', 'vehicle.mercedes.sprinter', 'vehicle.chevrolet.impala', 'vehicle.citroen.c3', 'vehicle.tesla.model3', 'vehicle.dodge.charger_police_2020', 'vehicle.micro.microlino', 'vehicle.dodge.charger_police', 'vehicle.mercedes.coupe_2020', 'vehicle.harley-davidson.low_rider', 'vehicle.dodge.charger_2020', 'vehicle.ford.ambulance', 'vehicle.lincoln.mkz_2020', 'vehicle.mini.cooper_s_2021', 'vehicle.toyota.prius', 'vehicle.ford.mustang', 'vehicle.volkswagen.t2', 'vehicle.carlamotors.firetruck', 'vehicle.carlamotors.carlacola', 'vehicle.vespa.zx125', 'vehicle.nissan.patrol_2021', 'vehicle.lincoln.mkz_2017', 'vehicle.tesla.cybertruck', 'vehicle.audi.etron', 'vehicle.seat.leon', 'vehicle.diamondback.century', 'vehicle.gazelle.omafiets', 'vehicle.bmw.grandtourer', 'vehicle.bh.crossbike', 'vehicle.kawasaki.ninja', 'vehicle.yamaha.yzf', 'vehicle.audi.tt', 'vehicle.jeep.wrangler_rubicon', 'vehicle.nissan.patrol', 'vehicle.nissan.micra', 'vehicle.mini.cooper_s', 'vehicle.mercedes.coupe']\n"
     ]
    },
    {
     "ename": "",
     "evalue": "",
     "output_type": "error",
     "traceback": [
      "\u001b[1;31mThe Kernel crashed while executing code in the current cell or a previous cell. \n",
      "\u001b[1;31mPlease review the code in the cell(s) to identify a possible cause of the failure. \n",
      "\u001b[1;31mClick <a href='https://aka.ms/vscodeJupyterKernelCrash'>here</a> for more info. \n",
      "\u001b[1;31mView Jupyter <a href='command:jupyter.viewOutput'>log</a> for further details."
     ]
    }
   ],
   "source": [
    "import carla\n",
    "import random\n",
    "import time\n",
    "import csv\n",
    "\n",
    "def main():\n",
    "    client = carla.Client('localhost', 2000)\n",
    "    client.set_timeout(10.0)\n",
    "    world = client.get_world()\n",
    "\n",
    "    blueprint_library = world.get_blueprint_library()\n",
    "    ambulance = None\n",
    "    vehicles = []\n",
    "    pedestrians = []\n",
    "\n",
    "    try:\n",
    "        # Check available vehicles\n",
    "        print([bp.id for bp in blueprint_library.filter('vehicle.*')])\n",
    "\n",
    "        # Spawn the ambulance as the ego vehicle\n",
    "        vehicle_blueprint = blueprint_library.find('vehicle.ford.ambulance')\n",
    "        spawn_points = world.get_map().get_spawn_points()\n",
    "        ambulance = world.spawn_actor(vehicle_blueprint, spawn_points[0])\n",
    "        ambulance.set_autopilot(True)\n",
    "\n",
    "        # Spawn other vehicles\n",
    "        for _ in range(5):\n",
    "            blueprint = random.choice(blueprint_library.filter('vehicle.*'))\n",
    "            spawn_point = random.choice(spawn_points[1:])  # Avoid the ambulance's point\n",
    "            vehicle = world.try_spawn_actor(blueprint, spawn_point)\n",
    "            if vehicle:\n",
    "                vehicles.append(vehicle)\n",
    "                vehicle.set_autopilot(True)\n",
    "\n",
    "        # Spawn pedestrians\n",
    "        walker_controller_bp = blueprint_library.find('controller.ai.walker')\n",
    "        for _ in range(5):\n",
    "            blueprint = random.choice(blueprint_library.filter('walker.pedestrian.*'))\n",
    "            spawn_point = random.choice(spawn_points[1:])  # Avoid the ambulance's point\n",
    "            pedestrian = world.try_spawn_actor(blueprint, spawn_point)\n",
    "            if pedestrian:\n",
    "                controller = world.try_spawn_actor(walker_controller_bp, carla.Transform(), pedestrian)\n",
    "                controller.start()\n",
    "                pedestrians.append(pedestrian)\n",
    "\n",
    "        # Prepare CSV file\n",
    "        with open('relative_coordinates.csv', 'w', newline='') as file:\n",
    "            writer = csv.writer(file)\n",
    "            writer.writerow(['Time', 'Actor Type', 'Actor ID', 'Relative X', 'Relative Y'])\n",
    "\n",
    "            # Run the simulation for 5 seconds\n",
    "            start_time = time.time()\n",
    "            while time.time() - start_time < 5:\n",
    "                world.tick()\n",
    "                ambulance_location = ambulance.get_transform().location\n",
    "                write_relative_positions(writer, time.time(), 'Vehicle', vehicles, ambulance_location)\n",
    "                write_relative_positions(writer, time.time(), 'Pedestrian', pedestrians, ambulance_location)\n",
    "                time.sleep(1)\n",
    "\n",
    "    finally:\n",
    "        # Clean up all actors\n",
    "        print('Destroying actors')\n",
    "        if ambulance:\n",
    "            ambulance.destroy()\n",
    "        for vehicle in vehicles:\n",
    "            vehicle.destroy()\n",
    "        for pedestrian in pedestrians:\n",
    "            pedestrian.destroy()\n",
    "\n",
    "def write_relative_positions(writer, timestamp, actor_type, actors, reference_location):\n",
    "    for actor in actors:\n",
    "        actor_location = actor.get_transform().location\n",
    "        relative_x = actor_location.x - reference_location.x\n",
    "        relative_y = actor_location.y - reference_location.y\n",
    "        writer.writerow([timestamp, actor_type, actor.id, relative_x, relative_y])\n",
    "\n",
    "if __name__ == '__main__':\n",
    "    main()\n"
   ]
  },
  {
   "cell_type": "code",
   "execution_count": 3,
   "metadata": {},
   "outputs": [
    {
     "ename": "TypeError",
     "evalue": "plot_with_direction() missing 1 required positional argument: 'label_prefix'",
     "output_type": "error",
     "traceback": [
      "\u001b[0;31m---------------------------------------------------------------------------\u001b[0m",
      "\u001b[0;31mTypeError\u001b[0m                                 Traceback (most recent call last)",
      "\u001b[0;32m<ipython-input-3-4ec3479c0db0>\u001b[0m in \u001b[0;36m<module>\u001b[0;34m\u001b[0m\n\u001b[1;32m     25\u001b[0m \u001b[0;31m# Plot each vehicle with direction arrows\u001b[0m\u001b[0;34m\u001b[0m\u001b[0;34m\u001b[0m\u001b[0;34m\u001b[0m\u001b[0m\n\u001b[1;32m     26\u001b[0m \u001b[0;32mfor\u001b[0m \u001b[0mvehicle_id\u001b[0m \u001b[0;32min\u001b[0m \u001b[0mvehicles\u001b[0m\u001b[0;34m[\u001b[0m\u001b[0;34m'Actor ID'\u001b[0m\u001b[0;34m]\u001b[0m\u001b[0;34m.\u001b[0m\u001b[0munique\u001b[0m\u001b[0;34m(\u001b[0m\u001b[0;34m)\u001b[0m\u001b[0;34m:\u001b[0m\u001b[0;34m\u001b[0m\u001b[0;34m\u001b[0m\u001b[0m\n\u001b[0;32m---> 27\u001b[0;31m     \u001b[0mplot_with_direction\u001b[0m\u001b[0;34m(\u001b[0m\u001b[0mvehicles\u001b[0m\u001b[0;34m,\u001b[0m \u001b[0mvehicle_id\u001b[0m\u001b[0;34m,\u001b[0m \u001b[0;34m'Vehicle'\u001b[0m\u001b[0;34m)\u001b[0m\u001b[0;34m\u001b[0m\u001b[0;34m\u001b[0m\u001b[0m\n\u001b[0m\u001b[1;32m     28\u001b[0m \u001b[0;34m\u001b[0m\u001b[0m\n\u001b[1;32m     29\u001b[0m \u001b[0;31m# Plot each pedestrian with direction arrows\u001b[0m\u001b[0;34m\u001b[0m\u001b[0;34m\u001b[0m\u001b[0;34m\u001b[0m\u001b[0m\n",
      "\u001b[0;31mTypeError\u001b[0m: plot_with_direction() missing 1 required positional argument: 'label_prefix'"
     ]
    },
    {
     "data": {
      "text/plain": [
       "<Figure size 720x576 with 0 Axes>"
      ]
     },
     "metadata": {},
     "output_type": "display_data"
    }
   ],
   "source": [
    "import matplotlib.pyplot as plt\n",
    "import pandas as pd\n",
    "\n",
    "# Load data from CSV\n",
    "data = pd.read_csv('relative_coordinates.csv')\n",
    "\n",
    "# Filter data by actor type\n",
    "vehicles = data[data['Actor Type'] == 'Vehicle']\n",
    "pedestrians = data[data['Actor Type'] == 'Pedestrian']\n",
    "\n",
    "# Create a figure\n",
    "plt.figure(figsize=(10, 8))\n",
    "\n",
    "# Function to plot trajectories with direction\n",
    "def plot_with_direction(df, actor_id, marker, label_prefix):\n",
    "    actor_data = df[df['Actor ID'] == actor_id]\n",
    "    # Plot the trajectory\n",
    "    plt.plot(actor_data['Relative X'], actor_data['Relative Y'], marker=marker, label=f'{label_prefix} {actor_id}')\n",
    "    # Calculate the differences to plot arrows\n",
    "    x_diff = actor_data['Relative X'].diff().fillna(0)\n",
    "    y_diff = actor_data['Relative Y'].diff().fillna(0)\n",
    "    # Plot arrows\n",
    "    plt.quiver(actor_data['Relative X'][:-1], actor_data['Relative Y'][:-1], x_diff[1:], y_diff[1:], angles='xy', scale_units='xy', scale=1, color='blue', width=0.005)\n",
    "\n",
    "# Plot each vehicle with direction arrows\n",
    "for vehicle_id in vehicles['Actor ID'].unique():\n",
    "    plot_with_direction(vehicles, vehicle_id, '', 'Vehicle')\n",
    "\n",
    "# Plot each pedestrian with direction arrows\n",
    "for pedestrian_id in pedestrians['Actor ID'].unique():\n",
    "    plot_with_direction(pedestrians, pedestrian_id, '', 'Pedestrian')\n",
    "\n",
    "# Set plot properties\n",
    "plt.title('Trajectories of Vehicles and Pedestrians with Direction')\n",
    "plt.xlabel('Relative X Position')\n",
    "plt.ylabel('Relative Y Position')\n",
    "plt.legend()\n",
    "plt.grid(True)\n",
    "plt.show()\n"
   ]
  }
 ],
 "metadata": {
  "kernelspec": {
   "display_name": "carla",
   "language": "python",
   "name": "python3"
  },
  "language_info": {
   "codemirror_mode": {
    "name": "ipython",
    "version": 3
   },
   "file_extension": ".py",
   "mimetype": "text/x-python",
   "name": "python",
   "nbconvert_exporter": "python",
   "pygments_lexer": "ipython3",
   "version": "3.7.16"
  }
 },
 "nbformat": 4,
 "nbformat_minor": 2
}
